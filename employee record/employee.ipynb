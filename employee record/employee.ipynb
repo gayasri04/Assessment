{
 "cells": [
  {
   "cell_type": "code",
   "execution_count": null,
   "metadata": {},
   "outputs": [],
   "source": [
    "import mysql.connector\n",
    "con = mysql.connector.connect(\n",
    "    host=\"localhost\", user=\"root\", password=\"password\", database=\"emp\")"
   ]
  },
  {
   "cell_type": "code",
   "execution_count": 1,
   "metadata": {},
   "outputs": [],
   "source": [
    "def menu():\n",
    "    print(\"Employ  Record\")\n",
    "    print(\"Click\")\n",
    "    print(\"1 to Add Employ\")\n",
    "    print(\"2 to Remove Employ \")\n",
    "    print(\"3 to Display Employees\")\n",
    "    print(\"4 to Exit\")\n",
    "     \n",
    "    ch = int(input(\"Enter your Choice \"))\n",
    "    if ch == 1:\n",
    "        Add_Employ()\n",
    "         \n",
    "    elif ch == 2:\n",
    "        Remove_Employ()\n",
    "         \n",
    "    elif ch == 3:\n",
    "        Display_Employees()\n",
    "         \n",
    "    elif ch == 4:\n",
    "        exit(0)\n",
    "         \n",
    "    else:\n",
    "        print(\"Invalid Choice\")\n",
    "        menu()"
   ]
  },
  {
   "cell_type": "code",
   "execution_count": null,
   "metadata": {},
   "outputs": [],
   "source": [
    "def Add_Employ():\n",
    "\n",
    "    Id = input(\"Enter Emp_Id : \")\n",
    "    # Checking if Employee with given Id\n",
    "    if(check_employee(Id) == True):\n",
    "        print(\"Employee aready exists\")\n",
    "        menu()\n",
    "     \n",
    "    else:\n",
    "        Name = input(\"Enter Employ Name : \")\n",
    "        Post = input(\"Enter Employ Post : \")\n",
    "        Salary = input(\"Enter Employ Salary : \")\n",
    "        data = (Id, Name, Post, Salary)\n",
    "        # Inserting Employee details in the Employee\n",
    "        sql = 'insert into empd values(%s,%s,%s,%s)'\n",
    "        c = con.cursor()\n",
    "        c.execute(sql, data)\n",
    " \n",
    "        \n",
    "        con.commit()\n",
    "        print(\"Employ Added Successfully \")\n",
    "        menu()"
   ]
  },
  {
   "cell_type": "code",
   "execution_count": null,
   "metadata": {},
   "outputs": [],
   "source": [
    "def Remove_Employ():\n",
    "    Id = input(\"Enter Emp_Id : \")\n",
    " \n",
    "    # Checking if Employee with given Id\n",
    "    if(check_employee(Id) == False):\n",
    "        print(\"Employee does not  exists\")\n",
    "        menu()\n",
    "     \n",
    "    else:\n",
    "         \n",
    "        # Query to Delete Employye from Table\n",
    "        sql = 'delete from empd where id=%s'\n",
    "        data = (Id,)\n",
    "        c = con.cursor()\n",
    "        c.execute(sql, data)\n",
    "        con.commit()\n",
    "        print(\"Employee Removed\")\n",
    "        menu()"
   ]
  },
  {
   "cell_type": "code",
   "execution_count": null,
   "metadata": {},
   "outputs": [],
   "source": [
    "def Display_Employees():\n",
    "    sql = 'select * from empd'\n",
    "    c = con.cursor()\n",
    "    c.execute(sql)\n",
    "    # Fetching all details of all the\n",
    "    # Employees\n",
    "    r = c.fetchall()\n",
    "    for i in r:\n",
    "        print(\"Employ Id : \", i[0])\n",
    "        print(\"Employ Name : \", i[1])\n",
    "        print(\"Employ Post : \", i[2])\n",
    "        print(\"Employ Salary : \", i[3])\n",
    "    menu()"
   ]
  },
  {
   "cell_type": "code",
   "execution_count": null,
   "metadata": {},
   "outputs": [],
   "source": []
  }
 ],
 "metadata": {
  "kernelspec": {
   "display_name": "Python 3",
   "language": "python",
   "name": "python3"
  },
  "language_info": {
   "codemirror_mode": {
    "name": "ipython",
    "version": 3
   },
   "file_extension": ".py",
   "mimetype": "text/x-python",
   "name": "python",
   "nbconvert_exporter": "python",
   "pygments_lexer": "ipython3",
   "version": "3.8.3"
  }
 },
 "nbformat": 4,
 "nbformat_minor": 4
}
